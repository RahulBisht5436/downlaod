{
 "cells": [
  {
   "cell_type": "code",
   "execution_count": 14,
   "id": "265dee80",
   "metadata": {},
   "outputs": [],
   "source": [
    "import tensorflow as tf\n",
    "from keras.preprocessing.image import ImageDataGenerator\n"
   ]
  },
  {
   "cell_type": "code",
   "execution_count": 15,
   "id": "333fded6",
   "metadata": {},
   "outputs": [
    {
     "name": "stdout",
     "output_type": "stream",
     "text": [
      "Found 5135 images belonging to 2 classes.\n"
     ]
    }
   ],
   "source": [
    "train_datagen = ImageDataGenerator(rescale = 1./255,\n",
    "                                   shear_range = 0.2,\n",
    "                                   zoom_range = 0.2,\n",
    "                                   horizontal_flip = True)\n",
    "training_set = train_datagen.flow_from_directory('training_set',\n",
    "                                                 target_size = (256, 256),\n",
    "                                                 batch_size = 32,\n",
    "                                                 class_mode = 'binary')"
   ]
  },
  {
   "cell_type": "code",
   "execution_count": 16,
   "id": "99bb2f81",
   "metadata": {},
   "outputs": [
    {
     "name": "stdout",
     "output_type": "stream",
     "text": [
      "Found 160 images belonging to 2 classes.\n"
     ]
    }
   ],
   "source": [
    "test_datagen = ImageDataGenerator(rescale = 1./255)\n",
    "test_set = test_datagen.flow_from_directory('test_set',\n",
    "                                            target_size = (256, 256),\n",
    "                                            batch_size = 32,\n",
    "                                            class_mode = 'binary')"
   ]
  },
  {
   "cell_type": "code",
   "execution_count": 17,
   "id": "fdf905af",
   "metadata": {},
   "outputs": [],
   "source": [
    "cnn = tf.keras.models.Sequential()"
   ]
  },
  {
   "cell_type": "code",
   "execution_count": 18,
   "id": "1e1e4797",
   "metadata": {},
   "outputs": [],
   "source": [
    "cnn.add(tf.keras.layers.Conv2D(filters=32, kernel_size=3, activation='relu', input_shape=[256, 256, 3]))"
   ]
  },
  {
   "cell_type": "code",
   "execution_count": 19,
   "id": "b8841d1c",
   "metadata": {},
   "outputs": [],
   "source": [
    "cnn.add(tf.keras.layers.MaxPool2D(pool_size=2, strides=2))"
   ]
  },
  {
   "cell_type": "code",
   "execution_count": 20,
   "id": "b1426732",
   "metadata": {},
   "outputs": [],
   "source": [
    "cnn.add(tf.keras.layers.Conv2D(filters=32, kernel_size=3, activation='relu'))\n",
    "cnn.add(tf.keras.layers.MaxPool2D(pool_size=2, strides=2))"
   ]
  },
  {
   "cell_type": "code",
   "execution_count": 21,
   "id": "38183483",
   "metadata": {},
   "outputs": [],
   "source": [
    "cnn.add(tf.keras.layers.Flatten())"
   ]
  },
  {
   "cell_type": "code",
   "execution_count": 22,
   "id": "f40f309f",
   "metadata": {},
   "outputs": [],
   "source": [
    "cnn.add(tf.keras.layers.Dense(units=128, activation='relu'))"
   ]
  },
  {
   "cell_type": "code",
   "execution_count": 23,
   "id": "c024f0d3",
   "metadata": {},
   "outputs": [],
   "source": [
    "cnn.add(tf.keras.layers.Dense(units=1, activation='sigmoid'))"
   ]
  },
  {
   "cell_type": "code",
   "execution_count": 24,
   "id": "ba257279",
   "metadata": {},
   "outputs": [],
   "source": [
    "cnn.compile(optimizer = 'adam', loss = 'binary_crossentropy', metrics = ['accuracy'])"
   ]
  },
  {
   "cell_type": "code",
   "execution_count": 25,
   "id": "eecb789a",
   "metadata": {},
   "outputs": [
    {
     "name": "stdout",
     "output_type": "stream",
     "text": [
      "Epoch 1/10\n",
      "161/161 [==============================] - 284s 2s/step - loss: 0.1489 - accuracy: 0.9704 - val_loss: 4.5633e-04 - val_accuracy: 1.0000\n",
      "Epoch 2/10\n",
      "161/161 [==============================] - 289s 2s/step - loss: 0.0050 - accuracy: 0.9986 - val_loss: 0.0162 - val_accuracy: 0.9937\n",
      "Epoch 3/10\n",
      "161/161 [==============================] - 305s 2s/step - loss: 0.0042 - accuracy: 0.9988 - val_loss: 0.0067 - val_accuracy: 0.9937\n",
      "Epoch 4/10\n",
      "161/161 [==============================] - 284s 2s/step - loss: 0.0061 - accuracy: 0.9981 - val_loss: 0.0117 - val_accuracy: 0.9937\n",
      "Epoch 5/10\n",
      "161/161 [==============================] - 285s 2s/step - loss: 0.0143 - accuracy: 0.9963 - val_loss: 0.0079 - val_accuracy: 0.9937\n",
      "Epoch 6/10\n",
      "161/161 [==============================] - 290s 2s/step - loss: 0.0020 - accuracy: 0.9992 - val_loss: 0.0015 - val_accuracy: 1.0000\n",
      "Epoch 7/10\n",
      "161/161 [==============================] - 290s 2s/step - loss: 0.0051 - accuracy: 0.9988 - val_loss: 0.0057 - val_accuracy: 0.9937\n",
      "Epoch 8/10\n",
      "161/161 [==============================] - 293s 2s/step - loss: 0.0084 - accuracy: 0.9971 - val_loss: 0.0010 - val_accuracy: 1.0000\n",
      "Epoch 9/10\n",
      "161/161 [==============================] - 296s 2s/step - loss: 0.0016 - accuracy: 0.9994 - val_loss: 0.0012 - val_accuracy: 1.0000\n",
      "Epoch 10/10\n",
      "161/161 [==============================] - 294s 2s/step - loss: 0.0038 - accuracy: 0.9990 - val_loss: 3.1910e-05 - val_accuracy: 1.0000\n"
     ]
    },
    {
     "data": {
      "text/plain": [
       "<keras.callbacks.History at 0x22f0ad4e040>"
      ]
     },
     "execution_count": 25,
     "metadata": {},
     "output_type": "execute_result"
    }
   ],
   "source": [
    "cnn.fit(x = training_set, validation_data = test_set, epochs = 10)"
   ]
  },
  {
   "cell_type": "code",
   "execution_count": 39,
   "id": "344b53ec",
   "metadata": {},
   "outputs": [
    {
     "name": "stdout",
     "output_type": "stream",
     "text": [
      "1/1 [==============================] - 0s 37ms/step\n",
      "1.0\n"
     ]
    }
   ],
   "source": [
    "import numpy as np\n",
    "from keras.preprocessing import image\n",
    "test_image = tf.keras.utils.load_img('test.png', target_size = (256, 256))\n",
    "test_image = tf.keras.utils.img_to_array(test_image)\n",
    "test_image = np.expand_dims(test_image, axis = 0)\n",
    "result = cnn.predict(test_image)\n",
    "training_set.class_indices\n",
    "if result[0][0] == 1:\n",
    "  prediction = 'fish'\n",
    "else:\n",
    "  prediction = 'cat'\n",
    "print(result[0][0])"
   ]
  },
  {
   "cell_type": "code",
   "execution_count": 40,
   "id": "c6da4357",
   "metadata": {},
   "outputs": [],
   "source": [
    "cnn.save('identify.h5')"
   ]
  },
  {
   "cell_type": "code",
   "execution_count": 41,
   "id": "62bfc343",
   "metadata": {},
   "outputs": [],
   "source": [
    "cnn.save_weights(\"model.h5\")"
   ]
  },
  {
   "cell_type": "code",
   "execution_count": null,
   "id": "256e221c",
   "metadata": {},
   "outputs": [],
   "source": []
  }
 ],
 "metadata": {
  "kernelspec": {
   "display_name": "Python 3 (ipykernel)",
   "language": "python",
   "name": "python3"
  },
  "language_info": {
   "codemirror_mode": {
    "name": "ipython",
    "version": 3
   },
   "file_extension": ".py",
   "mimetype": "text/x-python",
   "name": "python",
   "nbconvert_exporter": "python",
   "pygments_lexer": "ipython3",
   "version": "3.9.12"
  }
 },
 "nbformat": 4,
 "nbformat_minor": 5
}
